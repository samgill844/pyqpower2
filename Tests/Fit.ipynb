{
 "cells": [
  {
   "cell_type": "code",
   "execution_count": 1,
   "metadata": {},
   "outputs": [
    {
     "name": "stdout",
     "output_type": "stream",
     "text": [
      "Using matplotlib backend: Qt5Agg\n",
      "Populating the interactive namespace from numpy and matplotlib\n"
     ]
    }
   ],
   "source": [
    "%pylab\n",
    "import fib2\n",
    "import numpy as np\n"
   ]
  },
  {
   "cell_type": "code",
   "execution_count": 2,
   "metadata": {},
   "outputs": [
    {
     "data": {
      "text/plain": [
       "<matplotlib.collections.PathCollection at 0x7fb14c1dff60>"
      ]
     },
     "execution_count": 2,
     "metadata": {},
     "output_type": "execute_result"
    }
   ],
   "source": [
    "t = np.linspace(-0.05,0.05,250, dtype=np.float32)\n",
    "c, alpha = 0.76949424, 0.70087952\n",
    "h1, h2 = 0.70375712, 0.47215039999999997\n",
    "\n",
    "\n",
    "# Get the lightcurve\n",
    "f = fib2.lc(t, analytical=1, ld_law_1=7, ldc_1 = np.array([c,alpha], dtype=np.float32))\n",
    "f = np.random.normal(f, 1e-3)\n",
    "fe = np.array([1e-3]*f.shape[0])\n",
    "plt.scatter(t,f, c='k', s=10)"
   ]
  },
  {
   "cell_type": "code",
   "execution_count": null,
   "metadata": {},
   "outputs": [],
   "source": [
    "for i in np.arange(16)+1:\n",
    "    %timeit f = fib2.lc(t, nthreads=i, analytical=1, n_annuli=1000, ld_law_1=7, ldc_1 = np.array([c,alpha], dtype=np.float32))"
   ]
  },
  {
   "cell_type": "code",
   "execution_count": 3,
   "metadata": {},
   "outputs": [
    {
     "name": "stdout",
     "output_type": "stream",
     "text": [
      "Initial loglike :  -130.68799564141352\n"
     ]
    },
    {
     "data": {
      "text/plain": [
       "[<matplotlib.lines.Line2D at 0x7fb152015630>]"
      ]
     },
     "execution_count": 3,
     "metadata": {},
     "output_type": "execute_result"
    }
   ],
   "source": [
    "def lnlike(theta, t, f, fe, return_model=False):\n",
    "    t_zero, radius_1, k, h1, h2 =  theta\n",
    "    \n",
    "    if (t_zero < -0.05) or (t_zero > 0.05) : return -np.inf\n",
    "    if (radius_1 < 0.0) or (radius_1 > 0.5) : return -np.inf\n",
    "    if (k < 0.) or (k > 0.5) : return -np.inf\n",
    "    if (h1 < 0.5) or (h1 > 1) : return -np.inf\n",
    "    if (h2 < 0.3) or (h2 > 0.7) : return -np.inf\n",
    "    \n",
    "    \n",
    "    c = 1 - h1 + h2\n",
    "    alpha = np.log2(c/h2)\n",
    "    if (c < 0.5) or (c > 1) : return -np.inf\n",
    "    if (alpha < 0.5) or (alpha > 1) : return -np.inf    \n",
    "    \n",
    "    model = fib2.lc(t, nthreads=4, radius_1=radius_1, k=k, t_zero = t_zero,  analytical=1, ld_law_1=7, ldc_1 = np.array([c,alpha], dtype=np.float32))\n",
    "    if return_model : return model\n",
    "    else:\n",
    "        chi= -0.5*np.sum( (f - model)**2 / (fe**2) )\n",
    "        if np.isnan(chi) : return -np.inf\n",
    "        else : return chi\n",
    "    \n",
    "theta = [0.0, 0.2,0.2, 0.70, 0.47]\n",
    "\n",
    "print('Initial loglike : ',   lnlike(theta, t, f, fe, return_model=False))\n",
    "model =  lnlike(theta, t, f, fe, return_model=True)\n",
    "plt.scatter(t,f, c='k', s=10)\n",
    "plot(t,model,'r')\n",
    "    "
   ]
  },
  {
   "cell_type": "code",
   "execution_count": 4,
   "metadata": {},
   "outputs": [
    {
     "name": "stderr",
     "output_type": "stream",
     "text": [
      "100000it [01:43, 969.83it/s]\n"
     ]
    }
   ],
   "source": [
    "import emcee, corner\n",
    "from tqdm import tqdm\n",
    "\n",
    "nsteps = 100000\n",
    "ndim = len(theta)\n",
    "nwalkers =  4*ndim\n",
    "p0 = [np.random.normal(theta,1e-5) for i in range(nwalkers)]\n",
    "sampler = emcee.EnsembleSampler(nwalkers, ndim, lnlike, args=[t, f, fe, False])\n",
    "for pos,lnp,rstate in tqdm(sampler.sample(p0, iterations=nsteps)) : pass"
   ]
  },
  {
   "cell_type": "code",
   "execution_count": 5,
   "metadata": {},
   "outputs": [],
   "source": [
    "burn_in = 50000\n",
    "samples = sampler.chain[:, burn_in:, :].reshape((-1, ndim))\n",
    "fig = corner.corner(samples, labels = ['t_zero', 'radius_1', 'k', 'h1', 'h2'])\n"
   ]
  },
  {
   "cell_type": "code",
   "execution_count": 7,
   "metadata": {},
   "outputs": [
    {
     "name": "stdout",
     "output_type": "stream",
     "text": [
      "25.3 µs ± 134 ns per loop (mean ± std. dev. of 7 runs, 10000 loops each)\n"
     ]
    }
   ],
   "source": [
    "%timeit fib2.rv(t)\n"
   ]
  },
  {
   "cell_type": "code",
   "execution_count": null,
   "metadata": {
    "collapsed": true
   },
   "outputs": [],
   "source": []
  }
 ],
 "metadata": {
  "kernelspec": {
   "display_name": "Python 3",
   "language": "python",
   "name": "python3"
  },
  "language_info": {
   "codemirror_mode": {
    "name": "ipython",
    "version": 3
   },
   "file_extension": ".py",
   "mimetype": "text/x-python",
   "name": "python",
   "nbconvert_exporter": "python",
   "pygments_lexer": "ipython3",
   "version": "3.6.3"
  }
 },
 "nbformat": 4,
 "nbformat_minor": 2
}
